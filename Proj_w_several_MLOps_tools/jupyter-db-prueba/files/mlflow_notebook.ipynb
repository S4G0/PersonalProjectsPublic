{
 "cells": [
  {
   "cell_type": "code",
   "execution_count": 6,
   "id": "401bd3fb-5582-4747-8516-e22371fbc326",
   "metadata": {
    "tags": []
   },
   "outputs": [],
   "source": [
    "import mlflow\n",
    "from mlflow.tracking import MlflowClient\n",
    "from datetime import datetime\n",
    "import pandas as pd\n",
    "from sklearn.model_selection import train_test_split, GridSearchCV\n",
    "from sklearn.ensemble import RandomForestClassifier, GradientBoostingClassifier\n",
    "from sklearn.metrics import mean_squared_error\n",
    "import os\n",
    "import requests\n",
    "import json\n",
    "import numpy as np\n",
    "import time"
   ]
  },
  {
   "cell_type": "markdown",
   "id": "cf28cedf-0059-4fbd-94d4-7aa147c443d9",
   "metadata": {},
   "source": [
    "# Funciones para traer base de datos"
   ]
  },
  {
   "cell_type": "code",
   "execution_count": 7,
   "id": "e1c4cd3b-71f2-4640-aa9d-0b08a0374035",
   "metadata": {
    "tags": []
   },
   "outputs": [
    {
     "name": "stdout",
     "output_type": "stream",
     "text": [
      "Añadiendo datos batch 1\n",
      "Batch repetido. No se añaden datos\n",
      "Añadiendo datos batch 2\n",
      "Batch repetido. No se añaden datos\n",
      "Añadiendo datos batch 3\n",
      "Batch repetido. No se añaden datos\n",
      "Añadiendo datos batch 4\n",
      "Batch repetido. No se añaden datos\n",
      "Añadiendo datos batch 5\n",
      "Batch repetido. No se añaden datos\n",
      "Añadiendo datos batch 6\n",
      "Batch repetido. No se añaden datos\n",
      "Añadiendo datos batch 7\n",
      "Batch repetido. No se añaden datos\n",
      "Añadiendo datos batch 8\n",
      "Batch repetido. No se añaden datos\n",
      "Añadiendo datos batch 9\n",
      "Batch repetido. No se añaden datos\n",
      "Añadiendo datos batch 10\n",
      "Todos los datos han sido guardados\n"
     ]
    }
   ],
   "source": [
    "requests.get('http://host.docker.internal/restart_data_generation?group_number=2')\n",
    "i = 0\n",
    "columnas = ['Elevation', 'Aspect', 'Slope', 'Horizontal_Distance_To_Hydrology', 'Vertical_Distance_To_Hydrology', 'Horizontal_Distance_To_Roadways',\n",
    "    'Hillshade_9am', 'Hillshade_Noon', 'Hillshade_3pm', 'Horizontal_Distance_To_Fire_Points', 'Wilderness_Area', 'Soil_Type', 'Cover_Type']\n",
    "\n",
    "# Crear DataFrame vacío\n",
    "df = pd.DataFrame(columns=columnas)\n",
    "\n",
    "while i <10:\n",
    "    try:\n",
    "        r = requests.get('http://host.docker.internal:80/data?group_number=2')\n",
    "        d = json.loads(r.content.decode('utf-8'))\n",
    "        if i == d['batch_number']:\n",
    "            print(\"Batch repetido. No se añaden datos\")\n",
    "        else:\n",
    "            i = d['batch_number']\n",
    "            print(f\"Añadiendo datos batch {i}\")\n",
    "            temp = pd.DataFrame(d['data'], columns=columnas)\n",
    "            # Concatenate all at once\n",
    "            df = pd.concat([df, temp], ignore_index=True)\n",
    "\n",
    "\n",
    "    except requests.exceptions.ConnectionError:\n",
    "        print(\"🚫 No se pudo conectar a la API, reintentando...\")\n",
    "        \n",
    "    if i==10:\n",
    "        print(\"Todos los datos han sido guardados\")\n",
    "    else:\n",
    "        time.sleep(3)  "
   ]
  },
  {
   "cell_type": "code",
   "execution_count": 8,
   "id": "71a072e9-3359-4c79-ba8c-3fce6f27445c",
   "metadata": {
    "tags": []
   },
   "outputs": [
    {
     "name": "stdout",
     "output_type": "stream",
     "text": [
      "<class 'pandas.core.frame.DataFrame'>\n",
      "RangeIndex: 58100 entries, 0 to 58099\n",
      "Data columns (total 13 columns):\n",
      " #   Column                              Non-Null Count  Dtype \n",
      "---  ------                              --------------  ----- \n",
      " 0   Elevation                           58100 non-null  object\n",
      " 1   Aspect                              58100 non-null  object\n",
      " 2   Slope                               58100 non-null  object\n",
      " 3   Horizontal_Distance_To_Hydrology    58100 non-null  object\n",
      " 4   Vertical_Distance_To_Hydrology      58100 non-null  object\n",
      " 5   Horizontal_Distance_To_Roadways     58100 non-null  object\n",
      " 6   Hillshade_9am                       58100 non-null  object\n",
      " 7   Hillshade_Noon                      58100 non-null  object\n",
      " 8   Hillshade_3pm                       58100 non-null  object\n",
      " 9   Horizontal_Distance_To_Fire_Points  58100 non-null  object\n",
      " 10  Wilderness_Area                     58100 non-null  object\n",
      " 11  Soil_Type                           58100 non-null  object\n",
      " 12  Cover_Type                          58100 non-null  object\n",
      "dtypes: object(13)\n",
      "memory usage: 5.8+ MB\n"
     ]
    }
   ],
   "source": [
    "df.info()"
   ]
  },
  {
   "cell_type": "code",
   "execution_count": 10,
   "id": "df4d17cd-53a5-48f1-92a5-8f1244274314",
   "metadata": {
    "tags": []
   },
   "outputs": [
    {
     "data": {
      "text/plain": [
       "Cover_Type\n",
       "1    41409\n",
       "0    16327\n",
       "4      364\n",
       "Name: count, dtype: int64"
      ]
     },
     "execution_count": 10,
     "metadata": {},
     "output_type": "execute_result"
    }
   ],
   "source": [
    "df['Cover_Type'].value_counts()"
   ]
  },
  {
   "cell_type": "markdown",
   "id": "473c14d2-4847-4d9e-a1e1-6b99e710ed12",
   "metadata": {},
   "source": [
    "# Funciones para preprocesar datos"
   ]
  },
  {
   "cell_type": "code",
   "execution_count": 45,
   "id": "c5d385db-243c-4e98-90ae-568bd90e540e",
   "metadata": {
    "tags": []
   },
   "outputs": [],
   "source": [
    "# Selección de variables predictoras y objetivo\n",
    "feature_cols = ['Elevation', 'Aspect', 'Slope', 'Horizontal_Distance_To_Hydrology', 'Vertical_Distance_To_Hydrology', 'Horizontal_Distance_To_Roadways',\n",
    "    'Hillshade_9am', 'Hillshade_Noon', 'Hillshade_3pm', 'Horizontal_Distance_To_Fire_Points']\n",
    "target_col = \"Cover_Type\"\n",
    "\n",
    "X = df[feature_cols]\n",
    "y = df[target_col]\n",
    "\n",
    "# Dividir en entrenamiento y prueba (80%-20%)\n",
    "X_train, X_test, y_train, y_test = train_test_split(X, y, test_size=0.2, random_state=42)"
   ]
  },
  {
   "cell_type": "markdown",
   "id": "e5085b2f-57a1-4463-9c45-c8d427896d78",
   "metadata": {},
   "source": [
    "# Registrar modelos en MLFlow"
   ]
  },
  {
   "cell_type": "code",
   "execution_count": 37,
   "id": "c25b982b-056b-45e7-a5e6-4598b66ed996",
   "metadata": {
    "tags": []
   },
   "outputs": [
    {
     "name": "stdout",
     "output_type": "stream",
     "text": [
      "3 Gradient_Boosting_looking_for_the_best_model deleted\n",
      "2 Random_forest_looking_for_the_best_model deleted\n",
      "1 mlflow_tracking_tipo_de_cubierta_forestal_proofs deleted\n",
      "0 Default active\n"
     ]
    }
   ],
   "source": [
    "client = MlflowClient()\n",
    "for exp in client.search_experiments(view_type=\"ALL\"):\n",
    "    print(exp.experiment_id, exp.name, exp.lifecycle_stage)"
   ]
  },
  {
   "cell_type": "code",
   "execution_count": 39,
   "id": "e24d5057-f474-4a95-aa16-1a2b51180f8e",
   "metadata": {
    "tags": []
   },
   "outputs": [],
   "source": [
    "#client.restore_experiment(experiment_id=\"1\")  # reemplaza con el ID real\n"
   ]
  },
  {
   "cell_type": "code",
   "execution_count": 40,
   "id": "b41084c8-8764-44ec-a2ba-0d91163cc896",
   "metadata": {
    "tags": []
   },
   "outputs": [
    {
     "name": "stderr",
     "output_type": "stream",
     "text": [
      "2025/03/27 06:05:22 INFO mlflow.tracking.fluent: Autologging successfully enabled for sklearn.\n",
      "2025/03/27 06:05:35 WARNING mlflow.utils.environment: Failed to resolve installed pip version. ``pip`` will be added to conda.yaml environment spec without a version specifier.\n"
     ]
    }
   ],
   "source": [
    "# connects to the Mlflow tracking server that you started above\n",
    "os.environ['MLFLOW_S3_ENDPOINT_URL'] = \"http://minio:9000\"\n",
    "os.environ['AWS_ACCESS_KEY_ID'] = 'admin'\n",
    "os.environ['AWS_SECRET_ACCESS_KEY'] = 'supersecret'\n",
    "\n",
    "mlflow.set_tracking_uri(\"http://mlflow-service:5000\")\n",
    "mlflow.set_experiment(\"mlflow_tracking_tipo_de_cubierta_forestal_proofs\")\n",
    "\n",
    "mlflow.autolog(log_model_signatures=True, log_input_examples=True)\n",
    "\n",
    "# run description (just metadata)\n",
    "desc = \"the simplest possible example\"\n",
    "\n",
    "# executes the run\n",
    "with mlflow.start_run(run_name=\"Random_forest_no_params\", description=desc) as run:\n",
    "    # Entrenar RandomForest\n",
    "    rf_model = RandomForestClassifier()\n",
    "    rf_model.fit(X_train, y_train)\n",
    "    \n",
    "#mlflow.end_run()"
   ]
  },
  {
   "cell_type": "code",
   "execution_count": 41,
   "id": "04e15e37-f713-413b-9c4e-cae2cf66c64b",
   "metadata": {
    "tags": []
   },
   "outputs": [
    {
     "name": "stderr",
     "output_type": "stream",
     "text": [
      "2025/03/27 06:05:36 INFO mlflow.tracking.fluent: Autologging successfully enabled for sklearn.\n",
      "2025/03/27 06:06:01 WARNING mlflow.utils.environment: Failed to resolve installed pip version. ``pip`` will be added to conda.yaml environment spec without a version specifier.\n"
     ]
    }
   ],
   "source": [
    "# connects to the Mlflow tracking server that you started above\n",
    "os.environ['MLFLOW_S3_ENDPOINT_URL'] = \"http://minio:9000\"\n",
    "os.environ['AWS_ACCESS_KEY_ID'] = 'admin'\n",
    "os.environ['AWS_SECRET_ACCESS_KEY'] = 'supersecret'\n",
    "\n",
    "mlflow.set_tracking_uri(\"http://mlflow-service:5000\")\n",
    "mlflow.set_experiment(\"mlflow_tracking_tipo_de_cubierta_forestal_proofs\")\n",
    "\n",
    "mlflow.autolog(log_model_signatures=True, log_input_examples=True)\n",
    "\n",
    "# run description (just metadata)\n",
    "desc = \"the simplest possible example\"\n",
    "\n",
    "# executes the run\n",
    "with mlflow.start_run(run_name=\"Gradient_boost_no_params\", description=desc) as run:\n",
    "    # Entrenar GradietBoost\n",
    "    gb_model = GradientBoostingClassifier()\n",
    "    gb_model.fit(X_train, y_train)\n",
    "    \n",
    "#mlflow.end_run()  "
   ]
  },
  {
   "cell_type": "code",
   "execution_count": null,
   "id": "22dc1e60-d1a4-431e-b1a2-7d38a8479a85",
   "metadata": {},
   "outputs": [],
   "source": []
  },
  {
   "cell_type": "code",
   "execution_count": 42,
   "id": "9d8a1e56-f9aa-4732-930d-94f62c202435",
   "metadata": {
    "tags": []
   },
   "outputs": [
    {
     "name": "stderr",
     "output_type": "stream",
     "text": [
      "2025/03/27 06:06:14 INFO mlflow.tracking.fluent: Autologging successfully enabled for sklearn.\n",
      "/ml_project/.venv/lib/python3.9/site-packages/sklearn/metrics/_classification.py:1344: UndefinedMetricWarning: Precision is ill-defined and being set to 0.0 in labels with no predicted samples. Use `zero_division` parameter to control this behavior.\n",
      "  _warn_prf(average, modifier, msg_start, len(result))\n",
      "2025/03/27 06:07:39 WARNING mlflow.utils.environment: Failed to resolve installed pip version. ``pip`` will be added to conda.yaml environment spec without a version specifier.\n",
      "2025/03/27 06:07:41 WARNING mlflow.utils.environment: Failed to resolve installed pip version. ``pip`` will be added to conda.yaml environment spec without a version specifier.\n",
      "2025/03/27 06:07:41 INFO mlflow.sklearn.utils: Logging the 5 best runs, 22 runs will be omitted.\n"
     ]
    }
   ],
   "source": [
    "# connects to the Mlflow tracking server that you started above\n",
    "os.environ['MLFLOW_S3_ENDPOINT_URL'] = \"http://minio:9000\"\n",
    "os.environ['AWS_ACCESS_KEY_ID'] = 'admin'\n",
    "os.environ['AWS_SECRET_ACCESS_KEY'] = 'supersecret'\n",
    "\n",
    "mlflow.set_tracking_uri(\"http://mlflow-service:5000\")\n",
    "mlflow.set_experiment(\"Random_forest_looking_for_the_best_model\")\n",
    "\n",
    "mlflow.autolog(log_model_signatures=True, log_input_examples=True)\n",
    "\n",
    "# run description (just metadata)\n",
    "desc = \"Random_forest_grid_search\"\n",
    "\n",
    "params = {\n",
    "  \"n_estimators\": [33, 66, 200],\n",
    "  \"max_depth\": [2, 4, 6],\n",
    "  \"max_features\": [3, 4, 5]\n",
    "}\n",
    "\n",
    "rf_model = RandomForestClassifier()\n",
    "searcher = GridSearchCV(estimator=rf_model, param_grid=params, cv=5, scoring='accuracy', n_jobs=-1)\n",
    "\n",
    "with mlflow.start_run(run_name=\"autolog_with_grid_search\") as run:\n",
    "    searcher.fit(X_train, y_train)\n",
    "    \n",
    "#mlflow.end_run()  "
   ]
  },
  {
   "cell_type": "code",
   "execution_count": 43,
   "id": "73623d3a-e244-46e6-bc31-2d13050d7b42",
   "metadata": {
    "tags": []
   },
   "outputs": [
    {
     "name": "stderr",
     "output_type": "stream",
     "text": [
      "2025/03/27 06:07:41 INFO mlflow.tracking.fluent: Autologging successfully enabled for sklearn.\n",
      "2025/03/27 06:23:49 WARNING mlflow.utils.environment: Failed to resolve installed pip version. ``pip`` will be added to conda.yaml environment spec without a version specifier.\n",
      "2025/03/27 06:23:51 WARNING mlflow.utils.environment: Failed to resolve installed pip version. ``pip`` will be added to conda.yaml environment spec without a version specifier.\n",
      "2025/03/27 06:23:51 INFO mlflow.sklearn.utils: Logging the 5 best runs, 31 runs will be omitted.\n"
     ]
    }
   ],
   "source": [
    "# connects to the Mlflow tracking server that you started above\n",
    "os.environ['MLFLOW_S3_ENDPOINT_URL'] = \"http://minio:9000\"\n",
    "os.environ['AWS_ACCESS_KEY_ID'] = 'admin'\n",
    "os.environ['AWS_SECRET_ACCESS_KEY'] = 'supersecret'\n",
    "\n",
    "mlflow.set_tracking_uri(\"http://mlflow-service:5000\")\n",
    "mlflow.set_experiment(\"Gradient_Boosting_looking_for_the_best_model\")\n",
    "\n",
    "mlflow.autolog(log_model_signatures=True, log_input_examples=True)\n",
    "\n",
    "# run description (just metadata)\n",
    "desc = \"Gradient_Boosting_grid_search\"\n",
    "\n",
    "param_grid = {\n",
    "    'n_estimators': [100, 200],\n",
    "    'learning_rate': [0.01, 0.1, 0.2],\n",
    "    'max_depth': [3, 4, 5],\n",
    "    'subsample': [0.8, 1.0]\n",
    "}\n",
    "\n",
    "gb_model = GradientBoostingClassifier()\n",
    "searcher = GridSearchCV(estimator=gb_model, param_grid=param_grid, cv=5, scoring='accuracy', n_jobs=-1)\n",
    "\n",
    "with mlflow.start_run(run_name=\"autolog_with_grid_search\") as run:\n",
    "    searcher.fit(X_train, y_train)\n",
    "    \n",
    "#mlflow.end_run()  "
   ]
  },
  {
   "cell_type": "markdown",
   "id": "a2596ba1-0ef6-4185-9a0e-832790503880",
   "metadata": {},
   "source": [
    "# Probar inferencia"
   ]
  },
  {
   "cell_type": "markdown",
   "id": "f7e80bef-0bae-4fc5-86e6-e367d08afba6",
   "metadata": {},
   "source": [
    "**Probar inferencia mejor modelo de random forest**"
   ]
  },
  {
   "cell_type": "code",
   "execution_count": 58,
   "id": "8f6424d6-1ec0-41ca-bd65-225e1c6547a2",
   "metadata": {
    "tags": []
   },
   "outputs": [],
   "source": [
    "label=2"
   ]
  },
  {
   "cell_type": "code",
   "execution_count": 59,
   "id": "cfa06a76-19fb-4559-a9dc-74f1a2d95458",
   "metadata": {
    "tags": []
   },
   "outputs": [
    {
     "name": "stdout",
     "output_type": "stream",
     "text": [
      "real:  1\n",
      "prediction:  1\n"
     ]
    }
   ],
   "source": [
    "os.environ['MLFLOW_S3_ENDPOINT_URL'] = \"http://minio:9000\"\n",
    "os.environ['AWS_ACCESS_KEY_ID'] = 'admin'\n",
    "os.environ['AWS_SECRET_ACCESS_KEY'] = 'supersecret'\n",
    "\n",
    "mlflow.set_tracking_uri(\"http://mlflow-service:5000\")\n",
    "\n",
    "model_name = \"Best_random_forest\"\n",
    "\n",
    "# logged_model = 'runs:/71428bebed2b4feb9635714ea3cdb562/model'\n",
    "model_production_uri = \"models:/{model_name}/production\".format(model_name=model_name)\n",
    "\n",
    "# Load model as a PyFuncModel.\n",
    "loaded_model = mlflow.pyfunc.load_model(model_uri=model_production_uri)\n",
    "loaded_model\n",
    "example_test = X_test.iloc[label].to_frame().T\n",
    "#print(example_test)\n",
    "print('real: ', y_test.iloc[label])\n",
    "print('prediction: ', loaded_model.predict(example_test)[0])"
   ]
  },
  {
   "cell_type": "markdown",
   "id": "57bc3e27-8169-4688-819f-cf526a3ed41a",
   "metadata": {},
   "source": [
    "**Probar inferencia mejor modelo de gradient boosting**\n"
   ]
  },
  {
   "cell_type": "code",
   "execution_count": 60,
   "id": "a2a43c2f-d525-4d1d-86d2-f24c299932fc",
   "metadata": {
    "tags": []
   },
   "outputs": [
    {
     "name": "stdout",
     "output_type": "stream",
     "text": [
      "real:  1\n",
      "prediction:  1\n"
     ]
    }
   ],
   "source": [
    "os.environ['MLFLOW_S3_ENDPOINT_URL'] = \"http://minio:9000\"\n",
    "os.environ['AWS_ACCESS_KEY_ID'] = 'admin'\n",
    "os.environ['AWS_SECRET_ACCESS_KEY'] = 'supersecret'\n",
    "\n",
    "mlflow.set_tracking_uri(\"http://mlflow-service:5000\")\n",
    "\n",
    "model_name = \"Best_gradient_boosting\"\n",
    "\n",
    "# logged_model = 'runs:/71428bebed2b4feb9635714ea3cdb562/model'\n",
    "model_production_uri = \"models:/{model_name}/production\".format(model_name=model_name)\n",
    "\n",
    "# Load model as a PyFuncModel.\n",
    "loaded_model = mlflow.pyfunc.load_model(model_uri=model_production_uri)\n",
    "loaded_model\n",
    "example_test = X_test.iloc[label].to_frame().T\n",
    "#print(example_test)\n",
    "print('real: ', y_test.iloc[label])\n",
    "print('prediction: ', loaded_model.predict(example_test)[0])"
   ]
  },
  {
   "cell_type": "code",
   "execution_count": 61,
   "id": "3ceb431e-e42a-49bf-8fcb-a58940910429",
   "metadata": {
    "tags": []
   },
   "outputs": [
    {
     "data": {
      "text/html": [
       "<div>\n",
       "<style scoped>\n",
       "    .dataframe tbody tr th:only-of-type {\n",
       "        vertical-align: middle;\n",
       "    }\n",
       "\n",
       "    .dataframe tbody tr th {\n",
       "        vertical-align: top;\n",
       "    }\n",
       "\n",
       "    .dataframe thead th {\n",
       "        text-align: right;\n",
       "    }\n",
       "</style>\n",
       "<table border=\"1\" class=\"dataframe\">\n",
       "  <thead>\n",
       "    <tr style=\"text-align: right;\">\n",
       "      <th></th>\n",
       "      <th>23884</th>\n",
       "    </tr>\n",
       "  </thead>\n",
       "  <tbody>\n",
       "    <tr>\n",
       "      <th>Elevation</th>\n",
       "      <td>3172</td>\n",
       "    </tr>\n",
       "    <tr>\n",
       "      <th>Aspect</th>\n",
       "      <td>78</td>\n",
       "    </tr>\n",
       "    <tr>\n",
       "      <th>Slope</th>\n",
       "      <td>21</td>\n",
       "    </tr>\n",
       "    <tr>\n",
       "      <th>Horizontal_Distance_To_Hydrology</th>\n",
       "      <td>513</td>\n",
       "    </tr>\n",
       "    <tr>\n",
       "      <th>Vertical_Distance_To_Hydrology</th>\n",
       "      <td>97</td>\n",
       "    </tr>\n",
       "    <tr>\n",
       "      <th>Horizontal_Distance_To_Roadways</th>\n",
       "      <td>4350</td>\n",
       "    </tr>\n",
       "    <tr>\n",
       "      <th>Hillshade_9am</th>\n",
       "      <td>242</td>\n",
       "    </tr>\n",
       "    <tr>\n",
       "      <th>Hillshade_Noon</th>\n",
       "      <td>195</td>\n",
       "    </tr>\n",
       "    <tr>\n",
       "      <th>Hillshade_3pm</th>\n",
       "      <td>74</td>\n",
       "    </tr>\n",
       "    <tr>\n",
       "      <th>Horizontal_Distance_To_Fire_Points</th>\n",
       "      <td>3271</td>\n",
       "    </tr>\n",
       "  </tbody>\n",
       "</table>\n",
       "</div>"
      ],
      "text/plain": [
       "                                   23884\n",
       "Elevation                           3172\n",
       "Aspect                                78\n",
       "Slope                                 21\n",
       "Horizontal_Distance_To_Hydrology     513\n",
       "Vertical_Distance_To_Hydrology        97\n",
       "Horizontal_Distance_To_Roadways     4350\n",
       "Hillshade_9am                        242\n",
       "Hillshade_Noon                       195\n",
       "Hillshade_3pm                         74\n",
       "Horizontal_Distance_To_Fire_Points  3271"
      ]
     },
     "execution_count": 61,
     "metadata": {},
     "output_type": "execute_result"
    }
   ],
   "source": [
    "X_test.iloc[0].to_frame()"
   ]
  },
  {
   "cell_type": "code",
   "execution_count": 62,
   "id": "379ac668-d72e-4a23-9aab-1b34e5b5fa49",
   "metadata": {
    "tags": []
   },
   "outputs": [
    {
     "name": "stdout",
     "output_type": "stream",
     "text": [
      "Best_gradient_boosting\n",
      "Best_random_forest\n"
     ]
    }
   ],
   "source": [
    "client = MlflowClient()\n",
    "\n",
    "# List all registered models using search_registered_models\n",
    "registered_models = client.search_registered_models()\n",
    "\n",
    "# Print the names of the models\n",
    "for model in registered_models:\n",
    "    print(model.name)"
   ]
  },
  {
   "cell_type": "code",
   "execution_count": 63,
   "id": "ebe79a57-d255-4898-8c67-4e5b743a02c1",
   "metadata": {
    "tags": []
   },
   "outputs": [
    {
     "name": "stdout",
     "output_type": "stream",
     "text": [
      "[<RegisteredModel: aliases={}, creation_timestamp=1743057193182, description='', last_updated_timestamp=1743057208117, latest_versions=[<ModelVersion: aliases=[], creation_timestamp=1743057193269, current_stage='Production', description='', last_updated_timestamp=1743057208117, name='Best_gradient_boosting', run_id='46d4643a47434854b58efdc08bd112bf', run_link='', source='s3://mlflows3/artifacts/3/46d4643a47434854b58efdc08bd112bf/artifacts/best_estimator', status='READY', status_message='', tags={}, user_id='', version='1'>], name='Best_gradient_boosting', tags={}>, <RegisteredModel: aliases={}, creation_timestamp=1743057159771, description='', last_updated_timestamp=1743057219347, latest_versions=[<ModelVersion: aliases=[], creation_timestamp=1743057159820, current_stage='Production', description='', last_updated_timestamp=1743057219347, name='Best_random_forest', run_id='33c6cb53c730493eb91eb149cbff5b8a', run_link='', source='s3://mlflows3/artifacts/2/33c6cb53c730493eb91eb149cbff5b8a/artifacts/best_estimator', status='READY', status_message='', tags={}, user_id='', version='1'>], name='Best_random_forest', tags={}>]\n"
     ]
    }
   ],
   "source": [
    "print(registered_models)"
   ]
  }
 ],
 "metadata": {
  "kernelspec": {
   "display_name": "Python 3 (ipykernel)",
   "language": "python",
   "name": "python3"
  },
  "language_info": {
   "codemirror_mode": {
    "name": "ipython",
    "version": 3
   },
   "file_extension": ".py",
   "mimetype": "text/x-python",
   "name": "python",
   "nbconvert_exporter": "python",
   "pygments_lexer": "ipython3",
   "version": "3.9.21"
  }
 },
 "nbformat": 4,
 "nbformat_minor": 5
}
